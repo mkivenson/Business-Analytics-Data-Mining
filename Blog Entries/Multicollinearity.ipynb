{
 "cells": [
  {
   "cell_type": "markdown",
   "metadata": {},
   "source": [
    "# Collinearity\n",
    "\n",
    "In a regression model, collinearity is present when one or more predictors have a linear correlation with each other. This can be problematic, since collinearity may make the model sensitive to small changes. In addition, it adds ambiguity to the effect of features on the target variable.\n",
    "\n",
    "## Visualizing Collinearity\n",
    "\n",
    "- Correlation Plot\n",
    "- Scatter Plots\n",
    "\n",
    "## Testing for Collinearity\n",
    "\n",
    "- Chi-Square Test\n",
    "- Variance Inflation Factor (VIF)\n",
    "\n",
    "## Addressing Collinearity\n",
    "\n",
    "- Feature Reduction\n",
    "- Primary Component Analysis (PCA)\n",
    "- Partial Least Squares Regression (PLS)\n",
    "- Penalized Regression (Ridge, Lasso, Elastic Net)\n"
   ]
  }
 ],
 "metadata": {
  "kernelspec": {
   "display_name": "Python 3",
   "language": "python",
   "name": "python3"
  },
  "language_info": {
   "codemirror_mode": {
    "name": "ipython",
    "version": 3
   },
   "file_extension": ".py",
   "mimetype": "text/x-python",
   "name": "python",
   "nbconvert_exporter": "python",
   "pygments_lexer": "ipython3",
   "version": "3.7.3"
  }
 },
 "nbformat": 4,
 "nbformat_minor": 2
}
