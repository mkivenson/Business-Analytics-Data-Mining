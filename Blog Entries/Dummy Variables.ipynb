{
 "cells": [
  {
   "cell_type": "markdown",
   "metadata": {},
   "source": [
    "# Dummy Variables and Encoding\n",
    "\n",
    "One of the components of data preprocessing is feature selection and transformations. Transformations can include the creation of dummy variables from either categorical or numerical variables. A dummy variable is a predictor that only includes values of 0 or 1, which correspond to an absence or presence of that feature, respectively.\n",
    "\n",
    "### Categorical Variables\n",
    "\n",
    "Dummy variables are frequently used to encode categorical variables. Before applying a regression or classification technique on a dataset, all predictors must be numerical. "
   ]
  }
 ],
 "metadata": {
  "kernelspec": {
   "display_name": "Python 3",
   "language": "python",
   "name": "python3"
  },
  "language_info": {
   "codemirror_mode": {
    "name": "ipython",
    "version": 3
   },
   "file_extension": ".py",
   "mimetype": "text/x-python",
   "name": "python",
   "nbconvert_exporter": "python",
   "pygments_lexer": "ipython3",
   "version": "3.7.3"
  }
 },
 "nbformat": 4,
 "nbformat_minor": 4
}
