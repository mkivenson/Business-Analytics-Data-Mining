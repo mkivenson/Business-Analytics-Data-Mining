{
 "cells": [
  {
   "cell_type": "markdown",
   "metadata": {},
   "source": [
    "## Partial Least Squares (PLS)\n",
    "\n",
    "Partial Least Squares (PLS) is another method of dimensionality reduction. Like Principal Component Analysis (PCA), PLS reduces a dataset to uncorrelated components. The main difference between the two procedures is that PLS is a supervised method, so it accounts for the response variable when performing transformations.\n",
    "\n",
    "To test out PLS for dimensionality reduction and regression, the boston dataset from sci-kit learn will be used. This dataset contains 30 numerical predictor variables. The goal of this dataset is regression using the numerical features.\n",
    "\n",
    "Dimensionality reduction is an important preprocessing step in modelling. Having too many redundant dimensions can result in multicollinearity in a model. It can also result in model overfitting and poor accuracy in test datasets.\n",
    "\n",
    "## Addressing Collinearity\n",
    "\n",
    "#### Primary Component Analysis (PCA)\n",
    "\n",
    "\n",
    "\n"
   ]
  },
  {
   "cell_type": "code",
   "execution_count": 2,
   "metadata": {},
   "outputs": [],
   "source": [
    "import pandas as pd\n",
    "df = pd.read_csv(r\"2018_Financial_Data.csv\")"
   ]
  },
  {
   "cell_type": "markdown",
   "metadata": {},
   "source": [
    "#### Partial Least Squares Regression (PLS)\n"
   ]
  },
  {
   "cell_type": "markdown",
   "metadata": {},
   "source": [
    "https://bookdown.org/max/FES/selection-overfitting.html"
   ]
  }
 ],
 "metadata": {
  "kernelspec": {
   "display_name": "Python 3",
   "language": "python",
   "name": "python3"
  },
  "language_info": {
   "codemirror_mode": {
    "name": "ipython",
    "version": 3
   },
   "file_extension": ".py",
   "mimetype": "text/x-python",
   "name": "python",
   "nbconvert_exporter": "python",
   "pygments_lexer": "ipython3",
   "version": "3.7.3"
  }
 },
 "nbformat": 4,
 "nbformat_minor": 2
}
